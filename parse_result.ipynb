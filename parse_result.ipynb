{
 "cells": [
  {
   "cell_type": "code",
   "execution_count": 63,
   "metadata": {},
   "outputs": [],
   "source": [
    "import os\n",
    "import json\n",
    "import glob\n",
    "import json\n",
    "import pandas as pd\n",
    "import numpy as np"
   ]
  },
  {
   "cell_type": "code",
   "execution_count": 64,
   "metadata": {},
   "outputs": [],
   "source": [
    "def parse_result(path):\n",
    "    line_list = open(path,'r').readlines()\n",
    "    lines = [line.strip() for line in line_list]\n",
    "    end_line = lines[-1].split(', ')\n",
    "    best_eer = end_line[-1].split(' ')[-1]\n",
    "    result = {}\n",
    "    sum_minDCF = 0\n",
    "    for i,line in enumerate(lines):\n",
    "        try:\n",
    "            cur_eer = line.split(', ')[-2].split(' ')[-1]\n",
    "            cur_best_eer = line.split(', ')[-1].split(' ')[-1]\n",
    "            if cur_eer == cur_best_eer == best_eer:\n",
    "                for j in range(i-2,i):\n",
    "                    splits = lines[j].split(', ')\n",
    "                    gender = splits[0].split(' ')[-1]\n",
    "                    eer = splits[1].split(' ')[-1]\n",
    "                    minDCF = splits[2].split(' ')[-1]\n",
    "                    result[gender] = {'eer': float(eer.split('%')[0]), 'minDCF': float(minDCF)}\n",
    "                    sum_minDCF += float(minDCF)\n",
    "        except :\n",
    "            pass\n",
    "    result['overall'] = {'eer': float(best_eer.split('%')[0]), 'minDCF': sum_minDCF/2}\n",
    "    return result\n"
   ]
  },
  {
   "cell_type": "code",
   "execution_count": 98,
   "metadata": {},
   "outputs": [],
   "source": [
    "LOOP = 4"
   ]
  },
  {
   "cell_type": "code",
   "execution_count": 99,
   "metadata": {},
   "outputs": [],
   "source": [
    "for l in range(LOOP):\n",
    "    files = glob.glob('./checkpoints_combine/loop%s/*/score-stage.txt'%(l+1))\n",
    "    for file in files:\n",
    "        result = parse_result(file)\n",
    "        index = file.rfind('/')\n",
    "        path = file[:index]\n",
    "        name = 'dev_results.json'\n",
    "        with open(os.path.join(path, name), 'w') as f:\n",
    "            json.dump(result,f)"
   ]
  },
  {
   "cell_type": "code",
   "execution_count": 100,
   "metadata": {},
   "outputs": [],
   "source": [
    "def concate_result(files, loop, store=False):\n",
    "    data = {\n",
    "        'phase': [],\n",
    "        'eer': [],\n",
    "        'gender': [],\n",
    "        'minDCF': [],\n",
    "        'text': [],\n",
    "        'loop': [],\n",
    "        'word': []\n",
    "        }\n",
    "    parse = files[0].split('/')\n",
    "    path = '/'.join(parse[:-2])\n",
    "    for file in files:\n",
    "        res = json.load(open(file, 'r'))\n",
    "        splits = file.split('/')\n",
    "        if 'eval' in splits[-1]:\n",
    "            phase = 'eval'\n",
    "        else:\n",
    "            phase = 'dev'\n",
    "        text = splits[-2]\n",
    "        word = text.split('_')[0]\n",
    "        \n",
    "        for g in res:\n",
    "            data['gender'].append(g)\n",
    "            data['eer'].append(res[g]['eer'])\n",
    "            data['minDCF'].append(res[g]['minDCF'])\n",
    "            data['phase'].append(phase)\n",
    "            data['text'].append(text)\n",
    "            data['loop'].append(loop)\n",
    "            data['word'].append(word)\n",
    "    df = pd.DataFrame(data)\n",
    "    if store:\n",
    "        save_path = os.path.join(path, 'result.csv')\n",
    "        print('Save result to %s' % (save_path))\n",
    "        df.to_csv(save_path, index=False)\n",
    "    return df"
   ]
  },
  {
   "cell_type": "code",
   "execution_count": 101,
   "metadata": {},
   "outputs": [
    {
     "name": "stdout",
     "output_type": "stream",
     "text": [
      "Save result to checkpoints_combine/loop1/result.csv\n",
      "Save result to checkpoints_combine/loop2/result.csv\n",
      "Save result to checkpoints_combine/loop3/result.csv\n",
      "Save result to checkpoints_combine/loop4/result.csv\n"
     ]
    }
   ],
   "source": [
    "for l in range(LOOP):\n",
    "    result_files = glob.glob('checkpoints_combine/loop%s/*/*_results.json'%(l+1))\n",
    "    df = concate_result(result_files,l+1,store=True)"
   ]
  },
  {
   "cell_type": "code",
   "execution_count": 124,
   "metadata": {},
   "outputs": [],
   "source": [
    "def plot_result(df_all, gender, phase, loop):\n",
    "    import matplotlib.pyplot as plt\n",
    "    result = df_all[(df_all['phase'] == phase) & (df_all['gender'] == gender)].sort_values('word')\n",
    "    # print(result) \n",
    "    text = [str(x) for x in range(0,10)]\n",
    "    plt.figure(figsize=(12,6))\n",
    "    plt.suptitle('%s - Iteration %s' % (gender, loop))\n",
    "\n",
    "    plt.subplot(1,2,1)\n",
    "    plt.bar(text, result['minDCF'],0.4, label='minDCF')\n",
    "    plt.xticks(ticks=text)\n",
    "    plt.xlabel('Text')\n",
    "    plt.ylabel('minDCF')\n",
    "    \n",
    "    plt.subplot(1,2,2)\n",
    "    plt.bar(text, result['eer'],0.4, label='EER')\n",
    "    plt.xticks(ticks=text)\n",
    "    plt.xlabel('Text')\n",
    "    plt.ylabel('EER (%)')\n",
    "    plt.show()\n",
    "    "
   ]
  },
  {
   "cell_type": "code",
   "execution_count": 125,
   "metadata": {},
   "outputs": [
    {
     "data": {
      "image/png": "[encoded data removed]",
      "text/plain": [
       "<Figure size 1200x600 with 2 Axes>"
      ]
     },
     "metadata": {},
     "output_type": "display_data"
    }
   ],
   "source": [
    "plot_result(df, gender='overall', phase='dev', loop=4)"
   ]
  },
  {
   "cell_type": "code",
   "execution_count": 127,
   "metadata": {},
   "outputs": [],
   "source": [
    "df_all = pd.DataFrame()\n",
    "MAX_LOOP = 4\n",
    "for loop in range(1,MAX_LOOP+1):\n",
    "    df_all = pd.concat([df_all, pd.read_csv('checkpoints_combine/loop%s/result.csv'%(loop))], ignore_index=True)"
   ]
  },
  {
   "cell_type": "code",
   "execution_count": 128,
   "metadata": {},
   "outputs": [
    {
     "data": {
      "text/html": [
       "<div>\n",
       "<style scoped>\n",
       "    .dataframe tbody tr th:only-of-type {\n",
       "        vertical-align: middle;\n",
       "    }\n",
       "\n",
       "    .dataframe tbody tr th {\n",
       "        vertical-align: top;\n",
       "    }\n",
       "\n",
       "    .dataframe thead th {\n",
       "        text-align: right;\n",
       "    }\n",
       "</style>\n",
       "<table border=\"1\" class=\"dataframe\">\n",
       "  <thead>\n",
       "    <tr style=\"text-align: right;\">\n",
       "      <th></th>\n",
       "      <th>phase</th>\n",
       "      <th>eer</th>\n",
       "      <th>gender</th>\n",
       "      <th>minDCF</th>\n",
       "      <th>text</th>\n",
       "      <th>loop</th>\n",
       "      <th>word</th>\n",
       "    </tr>\n",
       "  </thead>\n",
       "  <tbody>\n",
       "    <tr>\n",
       "      <th>0</th>\n",
       "      <td>dev</td>\n",
       "      <td>6.740000</td>\n",
       "      <td>female</td>\n",
       "      <td>0.472100</td>\n",
       "      <td>0</td>\n",
       "      <td>1</td>\n",
       "      <td>0</td>\n",
       "    </tr>\n",
       "    <tr>\n",
       "      <th>1</th>\n",
       "      <td>dev</td>\n",
       "      <td>6.640000</td>\n",
       "      <td>male</td>\n",
       "      <td>0.379300</td>\n",
       "      <td>0</td>\n",
       "      <td>1</td>\n",
       "      <td>0</td>\n",
       "    </tr>\n",
       "    <tr>\n",
       "      <th>2</th>\n",
       "      <td>dev</td>\n",
       "      <td>6.690000</td>\n",
       "      <td>overall</td>\n",
       "      <td>0.425700</td>\n",
       "      <td>0</td>\n",
       "      <td>1</td>\n",
       "      <td>0</td>\n",
       "    </tr>\n",
       "    <tr>\n",
       "      <th>3</th>\n",
       "      <td>eval</td>\n",
       "      <td>7.164694</td>\n",
       "      <td>female</td>\n",
       "      <td>0.391229</td>\n",
       "      <td>0</td>\n",
       "      <td>1</td>\n",
       "      <td>0</td>\n",
       "    </tr>\n",
       "    <tr>\n",
       "      <th>4</th>\n",
       "      <td>eval</td>\n",
       "      <td>9.046327</td>\n",
       "      <td>male</td>\n",
       "      <td>0.606351</td>\n",
       "      <td>0</td>\n",
       "      <td>1</td>\n",
       "      <td>0</td>\n",
       "    </tr>\n",
       "    <tr>\n",
       "      <th>...</th>\n",
       "      <td>...</td>\n",
       "      <td>...</td>\n",
       "      <td>...</td>\n",
       "      <td>...</td>\n",
       "      <td>...</td>\n",
       "      <td>...</td>\n",
       "      <td>...</td>\n",
       "    </tr>\n",
       "    <tr>\n",
       "      <th>235</th>\n",
       "      <td>dev</td>\n",
       "      <td>7.810000</td>\n",
       "      <td>male</td>\n",
       "      <td>0.378100</td>\n",
       "      <td>4_4_4_4</td>\n",
       "      <td>4</td>\n",
       "      <td>4</td>\n",
       "    </tr>\n",
       "    <tr>\n",
       "      <th>236</th>\n",
       "      <td>dev</td>\n",
       "      <td>8.630000</td>\n",
       "      <td>overall</td>\n",
       "      <td>0.440250</td>\n",
       "      <td>4_4_4_4</td>\n",
       "      <td>4</td>\n",
       "      <td>4</td>\n",
       "    </tr>\n",
       "    <tr>\n",
       "      <th>237</th>\n",
       "      <td>eval</td>\n",
       "      <td>10.581327</td>\n",
       "      <td>female</td>\n",
       "      <td>0.500278</td>\n",
       "      <td>4_4_4_4</td>\n",
       "      <td>4</td>\n",
       "      <td>4</td>\n",
       "    </tr>\n",
       "    <tr>\n",
       "      <th>238</th>\n",
       "      <td>eval</td>\n",
       "      <td>7.802781</td>\n",
       "      <td>male</td>\n",
       "      <td>0.361082</td>\n",
       "      <td>4_4_4_4</td>\n",
       "      <td>4</td>\n",
       "      <td>4</td>\n",
       "    </tr>\n",
       "    <tr>\n",
       "      <th>239</th>\n",
       "      <td>eval</td>\n",
       "      <td>9.192054</td>\n",
       "      <td>overall</td>\n",
       "      <td>0.430680</td>\n",
       "      <td>4_4_4_4</td>\n",
       "      <td>4</td>\n",
       "      <td>4</td>\n",
       "    </tr>\n",
       "  </tbody>\n",
       "</table>\n",
       "<p>240 rows × 7 columns</p>\n",
       "</div>"
      ],
      "text/plain": [
       "    phase        eer   gender    minDCF     text  loop  word\n",
       "0     dev   6.740000   female  0.472100        0     1     0\n",
       "1     dev   6.640000     male  0.379300        0     1     0\n",
       "2     dev   6.690000  overall  0.425700        0     1     0\n",
       "3    eval   7.164694   female  0.391229        0     1     0\n",
       "4    eval   9.046327     male  0.606351        0     1     0\n",
       "..    ...        ...      ...       ...      ...   ...   ...\n",
       "235   dev   7.810000     male  0.378100  4_4_4_4     4     4\n",
       "236   dev   8.630000  overall  0.440250  4_4_4_4     4     4\n",
       "237  eval  10.581327   female  0.500278  4_4_4_4     4     4\n",
       "238  eval   7.802781     male  0.361082  4_4_4_4     4     4\n",
       "239  eval   9.192054  overall  0.430680  4_4_4_4     4     4\n",
       "\n",
       "[240 rows x 7 columns]"
      ]
     },
     "execution_count": 128,
     "metadata": {},
     "output_type": "execute_result"
    }
   ],
   "source": [
    "df_all"
   ]
  },
  {
   "cell_type": "code",
   "execution_count": 139,
   "metadata": {},
   "outputs": [],
   "source": [
    "def get_result(data,max_loop=5):\n",
    "    result = {\n",
    "    }\n",
    "    genders = ['female','male','overall']\n",
    "    phases = ['dev', 'eval']\n",
    "    words = [x for x in range(0,10)]\n",
    "    for phase in phases:\n",
    "        result[phase] = {}\n",
    "        for gender in genders:\n",
    "            result[phase][gender] = {\n",
    "                'eer': {},\n",
    "                'minDCF': {},\n",
    "            }\n",
    "            for word in words:\n",
    "                df = data[(data['phase'] == phase) & (data['gender'] == gender) & (data['word']==word)]\n",
    "                # print(data['word'])\n",
    "                result[phase][gender]['eer'][word] = df['eer'].to_list()\n",
    "                result[phase][gender]['minDCF'][word] = df['minDCF'].to_list()\n",
    "    return result\n",
    "\n",
    "                \n",
    "\n",
    "    "
   ]
  },
  {
   "cell_type": "code",
   "execution_count": 141,
   "metadata": {},
   "outputs": [],
   "source": [
    "result = get_result(df_all, max_loop=4)"
   ]
  },
  {
   "cell_type": "code",
   "execution_count": 142,
   "metadata": {},
   "outputs": [],
   "source": [
    "json.dump(result, open('results/result_stage2.json', 'w'))"
   ]
  },
  {
   "cell_type": "code",
   "execution_count": null,
   "metadata": {},
   "outputs": [],
   "source": []
  }
 ],
 "metadata": {
  "kernelspec": {
   "display_name": "speaker-verification",
   "language": "python",
   "name": "python3"
  },
  "language_info": {
   "codemirror_mode": {
    "name": "ipython",
    "version": 3
   },
   "file_extension": ".py",
   "mimetype": "text/x-python",
   "name": "python",
   "nbconvert_exporter": "python",
   "pygments_lexer": "ipython3",
   "version": "3.10.8"
  },
  "orig_nbformat": 4,
  "vscode": {
   "interpreter": {
    "hash": "edbb45d4957cf311985aa67ba05d6e5e146bc035c1a213edade3cc74e66c8d90"
   }
  }
 },
 "nbformat": 4,
 "nbformat_minor": 2
}
