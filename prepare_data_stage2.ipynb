{
 "cells": [
  {
   "cell_type": "code",
   "execution_count": 1,
   "metadata": {},
   "outputs": [],
   "source": [
    "import os\n",
    "import glob\n",
    "import json\n",
    "import random\n",
    "import numpy as np\n",
    "import pandas as pd"
   ]
  },
  {
   "cell_type": "code",
   "execution_count": null,
   "metadata": {},
   "outputs": [],
   "source": [
    "import utils\n",
    "from scipy.io.wavfile import write\n",
    "import soundfile as sf\n",
    "\n",
    "import transforms\n",
    "# Background - development - evaluation\n",
    "# Development (enrollment) - Testing (Verification)"
   ]
  },
  {
   "cell_type": "code",
   "execution_count": null,
   "metadata": {},
   "outputs": [],
   "source": [
    "a = utils.load_audio(path='data/loop3/0_0_0/01/0_0_0_0_0_0_.wav', sample_rate=16000)"
   ]
  },
  {
   "cell_type": "code",
   "execution_count": null,
   "metadata": {},
   "outputs": [],
   "source": [
    "data={}\n",
    "data['samples'] = a[0]\n",
    "data['sample_rate'] = 16000"
   ]
  },
  {
   "cell_type": "code",
   "execution_count": null,
   "metadata": {},
   "outputs": [],
   "source": [
    "audio_cfs = {\n",
    "  # Init\n",
    "  'sample_rate': 16000,\n",
    "  'duration': 3, # second\n",
    "  'add_sample': 240 #\n",
    "  }\n",
    "noise_path = {\n",
    "    'rir_path': '../dataset/rir_data/RIRS_NOISES/simulated_rirs',\n",
    "  'musan_path': '../dataset/musan_data/musan'}"
   ]
  },
  {
   "cell_type": "code",
   "execution_count": null,
   "metadata": {},
   "outputs": [],
   "source": [
    "train_transform = transforms.build_transform(audio_config=audio_cfs,mode='train',num_stack=1,\n",
    "noise_path=noise_path,stage=2)"
   ]
  },
  {
   "cell_type": "code",
   "execution_count": null,
   "metadata": {},
   "outputs": [],
   "source": [
    "data_2 = train_transform(data)"
   ]
  },
  {
   "cell_type": "code",
   "execution_count": null,
   "metadata": {},
   "outputs": [],
   "source": [
    "data['samples'].shape"
   ]
  },
  {
   "cell_type": "code",
   "execution_count": null,
   "metadata": {},
   "outputs": [],
   "source": [
    "import torchaudio\n",
    "import torch"
   ]
  },
  {
   "cell_type": "code",
   "execution_count": null,
   "metadata": {},
   "outputs": [],
   "source": [
    "a = data['input'].expand(1,16000*3+240)"
   ]
  },
  {
   "cell_type": "code",
   "execution_count": null,
   "metadata": {},
   "outputs": [],
   "source": [
    "torchaudio.save('test4.wav',a, 16000)"
   ]
  },
  {
   "cell_type": "code",
   "execution_count": null,
   "metadata": {},
   "outputs": [],
   "source": [
    "a[0]"
   ]
  },
  {
   "cell_type": "code",
   "execution_count": null,
   "metadata": {},
   "outputs": [],
   "source": [
    "data['samples']"
   ]
  },
  {
   "cell_type": "code",
   "execution_count": null,
   "metadata": {},
   "outputs": [],
   "source": [
    "audio = np.fromstring(data['samples'],dtype=np.float64)"
   ]
  },
  {
   "cell_type": "code",
   "execution_count": null,
   "metadata": {},
   "outputs": [],
   "source": [
    "audio.shape"
   ]
  },
  {
   "cell_type": "code",
   "execution_count": null,
   "metadata": {},
   "outputs": [],
   "source": [
    "audio.astype(np.int16)"
   ]
  },
  {
   "cell_type": "code",
   "execution_count": null,
   "metadata": {},
   "outputs": [],
   "source": [
    "write('test.wav',16000,audio.astype(np.int16))"
   ]
  },
  {
   "cell_type": "code",
   "execution_count": null,
   "metadata": {},
   "outputs": [],
   "source": [
    "data['samples'].shape"
   ]
  },
  {
   "cell_type": "code",
   "execution_count": null,
   "metadata": {},
   "outputs": [],
   "source": [
    "isinstance(data['samples'], np.float128)"
   ]
  },
  {
   "cell_type": "code",
   "execution_count": null,
   "metadata": {},
   "outputs": [],
   "source": [
    "data['samples'].shape"
   ]
  },
  {
   "cell_type": "code",
   "execution_count": null,
   "metadata": {},
   "outputs": [],
   "source": [
    "data_2['samples'].shape"
   ]
  },
  {
   "cell_type": "code",
   "execution_count": 2,
   "metadata": {},
   "outputs": [],
   "source": [
    "info = json.load(open('meta_data/stage2/split_0.5_stage2.json'))"
   ]
  },
  {
   "cell_type": "code",
   "execution_count": 3,
   "metadata": {},
   "outputs": [
    {
     "data": {
      "text/plain": [
       "{'development': {'male': ['54',\n",
       "   '51',\n",
       "   '14',\n",
       "   '03',\n",
       "   '11',\n",
       "   '22',\n",
       "   '10',\n",
       "   '40',\n",
       "   '34',\n",
       "   '45',\n",
       "   '02',\n",
       "   '17',\n",
       "   '41',\n",
       "   '55',\n",
       "   '23',\n",
       "   '05',\n",
       "   '53',\n",
       "   '21',\n",
       "   '30',\n",
       "   '44',\n",
       "   '13',\n",
       "   '20',\n",
       "   '39',\n",
       "   '09'],\n",
       "  'female': ['26', '56', '59', '60', '58', '28']},\n",
       " 'evaluation': {'male': ['31',\n",
       "   '01',\n",
       "   '33',\n",
       "   '35',\n",
       "   '08',\n",
       "   '18',\n",
       "   '16',\n",
       "   '46',\n",
       "   '50',\n",
       "   '49',\n",
       "   '27',\n",
       "   '06',\n",
       "   '15',\n",
       "   '19',\n",
       "   '48',\n",
       "   '37',\n",
       "   '42',\n",
       "   '24',\n",
       "   '04',\n",
       "   '32',\n",
       "   '38',\n",
       "   '07',\n",
       "   '29',\n",
       "   '25'],\n",
       "  'female': ['47', '57', '36', '43', '52', '12']}}"
      ]
     },
     "execution_count": 3,
     "metadata": {},
     "output_type": "execute_result"
    }
   ],
   "source": [
    "info"
   ]
  },
  {
   "cell_type": "code",
   "execution_count": 4,
   "metadata": {},
   "outputs": [],
   "source": [
    "np.random.seed(2023)\n",
    "random.seed(2023)"
   ]
  },
  {
   "cell_type": "code",
   "execution_count": 5,
   "metadata": {},
   "outputs": [],
   "source": [
    "# LOOP = 5\n",
    "WORD = [\"0\", \"1\", \"2\", \"3\", \"4\", \"5\", \"6\", \"7\", \"8\", \"9\"]\n",
    "DIR = './data'\n",
    "# WORD = os.listdir('./data/experiments/')\n",
    "# WORD"
   ]
  },
  {
   "cell_type": "code",
   "execution_count": 6,
   "metadata": {},
   "outputs": [],
   "source": [
    "def prepare_data_experiment(root_dir,info):\n",
    "    pattern = '%s/%s/%s/%s'\n",
    "    for word in WORD:\n",
    "        background = {\n",
    "        'file': [],\n",
    "        'speaker': [],\n",
    "        'gender': [],\n",
    "        'word': [], \n",
    "        }\n",
    "        pairs = {\n",
    "            'eval': {\n",
    "                'female':[],\n",
    "                'male':[],\n",
    "                'all':[],\n",
    "            }\n",
    "        }\n",
    "        all_speakers = set(info['evaluation']['female'] + info['evaluation']['male'] + info['development']['female'] + info['development']['male'])\n",
    "        folder_word = word\n",
    "        for phase in info:\n",
    "            speakers = info[phase]\n",
    "            for gender in speakers:\n",
    "                if phase == 'development':\n",
    "                    for spkr in speakers[gender]:\n",
    "                        path = os.path.join(root_dir,'experiments', folder_word , spkr)\n",
    "                        for file in os.listdir(path):\n",
    "                            background['file'].append(pattern %('experiments',folder_word, spkr, file))\n",
    "                            background['speaker'].append(spkr)\n",
    "                            background['gender'].append(gender)\n",
    "                            background['word'].append(folder_word)\n",
    "                else:\n",
    "                    for spkr in speakers[gender]:\n",
    "                        imposters = set(info['evaluation'][gender] + info['development'][gender]) - set([spkr])\n",
    "                        imposter_files = []\n",
    "                        for imp in imposters:\n",
    "                            imp_file = glob.glob(root_dir+('/loop%s/*/%s/*.wav')%(2, imp)) + glob.glob(root_dir+('/experiments/*/%s/*.wav')%(imp))\n",
    "                            imposter_files.extend(imp_file)\n",
    "\n",
    "                        # Get all \n",
    "                        all_imposters = all_speakers - set([spkr])\n",
    "                        all_imposter_files = []\n",
    "                        for imp in all_imposters:\n",
    "                            imp_file = glob.glob(root_dir+('/loop%s/*/%s/*.wav')%(2, imp)) + glob.glob(root_dir+('/experiments/*/%s/*.wav')%(imp))\n",
    "                            all_imposter_files.extend(imp_file)\n",
    "\n",
    "                        path = os.path.join(root_dir, 'experiments',folder_word , spkr)\n",
    "                        files = os.listdir(path)\n",
    "                        for file in files:\n",
    "                            current_file = pattern % ('experiments', folder_word, spkr, file)\n",
    "                            # Get target correct\n",
    "                            # Accept pairs\n",
    "                            other_files = [f for f in files if f != file]\n",
    "                            accept_pairs = [['1', current_file, pattern % ('experiments', folder_word, spkr, o_file)] for o_file in other_files]\n",
    "\n",
    "                            # Reject pairs\n",
    "                            reject_pairs = []\n",
    "                            all_reject_pairs = []\n",
    "                            n_pairs = len(files)\n",
    "                            n_target_wrong = n_pairs // 2\n",
    "                            n_imposters = n_pairs - n_target_wrong\n",
    "                            \n",
    "                            tw_all =list(set(glob.glob(root_dir+'/loop%s/*/%s/*.wav' % (2, spkr)) +glob.glob(root_dir+'/%s/*/%s/*.wav' % ('experiments', spkr))) -\n",
    "                                set(glob.glob(root_dir+'/%s/%s/%s/*.wav' % ('experiments', folder_word, spkr))))\n",
    "                            tw_set = random.choices(tw_all, k=n_target_wrong)\n",
    "                            for tw_sample in tw_set:\n",
    "                                reject_pairs.append(['0', current_file, tw_sample[len(root_dir)+1:]])\n",
    "                                all_reject_pairs.append(['0', current_file, tw_sample[len(root_dir)+1:]])\n",
    "\n",
    "                            imposter_set = random.choices(imposter_files, k=n_imposters)\n",
    "                            for imposter_sample in imposter_set:\n",
    "                                reject_pairs.append(['0', current_file, imposter_sample[len(root_dir)+1:]])\n",
    "                            pairs['eval'][gender].extend([accept_pairs] + [reject_pairs])\n",
    "\n",
    "\n",
    "                            \n",
    "                            imposter_set = random.choices(all_imposter_files, k=n_imposters)\n",
    "                            for imposter_sample in imposter_set:\n",
    "                                all_reject_pairs.append(['0', current_file, imposter_sample[len(root_dir)+1:]])\n",
    "                            pairs['eval']['all'].extend([accept_pairs] + [all_reject_pairs])\n",
    "\n",
    "                            \n",
    "        # df_bg = pd.DataFrame(background)\n",
    "        # df_bg.to_csv(os.path.join(root_dir,'%s/%s/development.csv'%('experiments',folder_word)), index=False)\n",
    "        print(word)\n",
    "        for phase in pairs:\n",
    "            files = pairs[phase]\n",
    "            for gender in files:\n",
    "                fout = open(os.path.join(root_dir,'%s/%s/%s_%s_2.txt'%('experiments',folder_word,gender,phase)), 'w')\n",
    "                for list_file in files[gender]:\n",
    "                    for file in list_file:\n",
    "                        fout.write(\" \".join(file) + '\\n')\n",
    "  \n"
   ]
  },
  {
   "cell_type": "code",
   "execution_count": 7,
   "metadata": {},
   "outputs": [
    {
     "name": "stdout",
     "output_type": "stream",
     "text": [
      "9_1\n",
      "9_6\n",
      "1_6\n",
      "1_9\n",
      "6_3\n",
      "6_1\n",
      "3_9\n",
      "9_3\n",
      "3_1\n",
      "1_3\n",
      "6_9\n",
      "3_6\n"
     ]
    }
   ],
   "source": [
    "prepare_data_experiment(DIR, info)"
   ]
  },
  {
   "cell_type": "code",
   "execution_count": 7,
   "metadata": {},
   "outputs": [],
   "source": [
    "def prepare_data_stage2_2(root_dir,info,loop):\n",
    "    pattern = 'loop%s/%s/%s/%s'\n",
    "    all_speakers = set(info['evaluation']['female'] + info['evaluation']['male'] + info['development']['female'] + info['development']['male'])\n",
    "    for word in WORD:\n",
    "        background = {\n",
    "        'file': [],\n",
    "        'speaker': [],\n",
    "        'gender': [],\n",
    "        'word': [], \n",
    "        }\n",
    "        pairs = {\n",
    "            'eval': {\n",
    "                'female':[],\n",
    "                'male':[],\n",
    "                'all':[],\n",
    "            }\n",
    "        }\n",
    "        folder_word = word + ('_'+word)*(loop-1)\n",
    "        for phase in info:\n",
    "            speakers = info[phase]\n",
    "            for gender in speakers:\n",
    "                if phase == 'development':\n",
    "                    for spkr in speakers[gender]:\n",
    "                        path = os.path.join(root_dir, 'loop%s'%(loop),folder_word , spkr)\n",
    "                        for file in os.listdir(path):\n",
    "                            background['file'].append(pattern %(loop, folder_word, spkr, file))\n",
    "                            background['speaker'].append(spkr)\n",
    "                            background['gender'].append(gender)\n",
    "                            background['word'].append(folder_word)\n",
    "                else:\n",
    "                    for spkr in speakers[gender]:\n",
    "                        imposters = set(info['evaluation'][gender] + info['development'][gender]) - set([spkr])\n",
    "                        imposter_files = []\n",
    "                        for imp in imposters:\n",
    "                            imp_file = glob.glob(root_dir+('/loop%s/*/%s/*.wav')%(loop, imp))\n",
    "                            imposter_files.extend(imp_file)\n",
    "\n",
    "                        # Get all \n",
    "                        all_imposters = all_speakers - set([spkr])\n",
    "                        all_imposter_files = []\n",
    "                        for imp in all_imposters:\n",
    "                            imp_file = glob.glob(root_dir+('/loop%s/*/%s/*.wav')%(loop, imp))\n",
    "                            all_imposter_files.extend(imp_file)\n",
    "\n",
    "                        path = os.path.join(root_dir, 'loop%s'%(loop),folder_word , spkr)\n",
    "                        files = os.listdir(path)\n",
    "                        for file in files:\n",
    "                            current_file = pattern % (loop, folder_word, spkr, file)\n",
    "                            # Get target correct\n",
    "                            # Accept pairs\n",
    "                            other_files = [f for f in files if f != file]\n",
    "                            accept_pairs = [['1', current_file, pattern % (loop, folder_word, spkr, o_file)] for o_file in other_files]\n",
    "\n",
    "                            # Reject pairs\n",
    "                            reject_pairs = []\n",
    "                            all_reject_pairs = []\n",
    "                            n_pairs = len(files)\n",
    "                            n_target_wrong = n_pairs // 2\n",
    "                            n_imposters = n_pairs - n_target_wrong\n",
    "                            \n",
    "                            tw_all =list(set(glob.glob(root_dir+'/loop%s/*/%s/*.wav' % (loop, spkr))) -\n",
    "                                set(glob.glob(root_dir+'/loop%s/%s/%s/*.wav' % (loop, folder_word, spkr))))\n",
    "                            tw_set = random.choices(tw_all, k=n_target_wrong)\n",
    "                            for tw_sample in tw_set:\n",
    "                                reject_pairs.append(['0', current_file, tw_sample[len(root_dir)+1:]])\n",
    "                                all_reject_pairs.append(['0', current_file, tw_sample[len(root_dir)+1:]])\n",
    "                            imposter_set = random.choices(imposter_files, k=n_imposters)\n",
    "                            for imposter_sample in imposter_set:\n",
    "                                reject_pairs.append(['0', current_file, imposter_sample[len(root_dir)+1:]])\n",
    "                            pairs['eval'][gender].extend([accept_pairs] + [reject_pairs])\n",
    "\n",
    "                            \n",
    "                            imposter_set = random.choices(all_imposter_files, k=n_imposters)\n",
    "                            for imposter_sample in imposter_set:\n",
    "                                all_reject_pairs.append(['0', current_file, imposter_sample[len(root_dir)+1:]])\n",
    "                            pairs['eval']['all'].extend([accept_pairs] + [all_reject_pairs])\n",
    "\n",
    "\n",
    "        # df_bg = pd.DataFrame(background)\n",
    "        # df_bg.to_csv(os.path.join(root_dir,'loop%s/%s/development.csv'%(loop,folder_word)), index=False)\n",
    "        print(folder_word)\n",
    "        for phase in pairs:\n",
    "            files = pairs[phase]\n",
    "            for gender in files:\n",
    "                fout = open(os.path.join(root_dir,'loop%s/%s/%s_%s_2.txt'%(loop,folder_word,gender,phase)), 'w')\n",
    "                for list_file in files[gender]:\n",
    "                    for file in list_file:\n",
    "                        fout.write(\" \".join(file) + '\\n')\n",
    "            \n",
    "            # files = pairs[phase]['male'] + pairs[phase]['female']\n",
    "            # fout = open(os.path.join(root_dir,'loop%s/%s/all_%s.txt'%(loop,folder_word,phase)), 'w')\n",
    "            # for list_file in files:\n",
    "            #     for file in list_file:\n",
    "            #         fout.write(\" \".join(file) + '\\n')\n",
    "        \n",
    "\n",
    "        \n"
   ]
  },
  {
   "cell_type": "code",
   "execution_count": 12,
   "metadata": {},
   "outputs": [
    {
     "name": "stdout",
     "output_type": "stream",
     "text": [
      "0_0_0_0_0\n",
      "1_1_1_1_1\n",
      "2_2_2_2_2\n",
      "3_3_3_3_3\n",
      "4_4_4_4_4\n",
      "5_5_5_5_5\n",
      "6_6_6_6_6\n",
      "7_7_7_7_7\n",
      "8_8_8_8_8\n",
      "9_9_9_9_9\n"
     ]
    }
   ],
   "source": [
    "prepare_data_stage2_2('data', info, loop=5)"
   ]
  },
  {
   "cell_type": "code",
   "execution_count": null,
   "metadata": {},
   "outputs": [],
   "source": [
    "def prepare_data_stage2(root_dir,info,loop):\n",
    "    pattern = 'loop%s/%s/%s/%s'\n",
    "    for word in WORD:\n",
    "        background = {\n",
    "        'file': [],\n",
    "        'speaker': [],\n",
    "        'gender': [],\n",
    "        'word': [], \n",
    "        }\n",
    "        pairs = {\n",
    "            'development': {\n",
    "                'female':[],\n",
    "                'male': [],\n",
    "            },\n",
    "            'evaluation': {\n",
    "                'female':[],\n",
    "                'male':[],\n",
    "            }\n",
    "        }\n",
    "        folder_word = word + ('_'+word)*(loop-1)\n",
    "        for phase in info:\n",
    "            speakers = info[phase]\n",
    "            for gender in speakers:\n",
    "                if phase == 'development':\n",
    "                    for spkr in speakers[gender]:\n",
    "                        path = os.path.join(root_dir, 'loop%s'%(loop),folder_word , spkr)\n",
    "                        for file in os.listdir(path):\n",
    "                            background['file'].append(pattern %(loop, folder_word, spkr, file))\n",
    "                            background['speaker'].append(spkr)\n",
    "                            background['gender'].append(gender)\n",
    "                            background['word'].append(folder_word)\n",
    "                else:\n",
    "                    for spkr in speakers[gender]:\n",
    "                        imposters = set(info['development'][gender] )+ set(info['evaluation'][gender]) - set([spkr])\n",
    "                        imposter_files = []\n",
    "                        for imp in imposters:\n",
    "                            imp_file = glob.glob(root_dir+('/loop%s/*/%s/*.wav')%(loop, imp))\n",
    "                            imposter_files.extend(imp_file)\n",
    "\n",
    "                        path = os.path.join(root_dir, 'loop%s'%(loop),folder_word , spkr)\n",
    "                        files = os.listdir(path)\n",
    "                        for file in files:\n",
    "                            current_file = pattern % (loop, folder_word, spkr, file)\n",
    "                            # Get target correct\n",
    "                            # Accept pairs\n",
    "                            other_files = [f for f in files if f != file]\n",
    "                            accept_pairs = [['1', current_file, pattern % (loop, folder_word, spkr, o_file)] for o_file in other_files]\n",
    "\n",
    "                            # Reject pairs\n",
    "                            reject_pairs = []\n",
    "                            n_pairs = len(files)\n",
    "                            n_target_wrong = n_pairs // 2\n",
    "                            n_imposters = n_pairs - n_target_wrong\n",
    "                            \n",
    "                            tw_all =list(set(glob.glob(root_dir+'/loop%s/*/%s/*.wav' % (loop, spkr))) -\n",
    "                                set(glob.glob(root_dir+'/loop%s/%s/%s/*.wav' % (loop, folder_word, spkr))))\n",
    "                            tw_set = random.choices(tw_all, k=n_target_wrong)\n",
    "                            for tw_sample in tw_set:\n",
    "                                reject_pairs.append(['0', current_file, tw_sample[len(root_dir)+1:]])\n",
    "\n",
    "                            imposter_set = random.choices(imposter_files, k=n_imposters)\n",
    "                            for imposter_sample in imposter_set:\n",
    "                                reject_pairs.append(['0', current_file, imposter_sample[len(root_dir)+1:]])\n",
    "\n",
    "                            \n",
    "                            pairs[phase][gender].extend([accept_pairs] + [reject_pairs])\n",
    "\n",
    "        # df_bg = pd.DataFrame(background)\n",
    "        # df_bg.to_csv(os.path.join(root_dir,'loop%s/%s/background.csv'%(loop,folder_word)), index=False)\n",
    "\n",
    "        for phase in pairs:\n",
    "            files = pairs[phase]\n",
    "            for gender in files:\n",
    "                fout = open(os.path.join(root_dir,'loop%s/%s/%s_%s.txt'%(loop,folder_word,gender,phase)), 'w')\n",
    "                for list_file in files[gender]:\n",
    "                    for file in list_file:\n",
    "                        fout.write(\" \".join(file) + '\\n')\n",
    "\n",
    "        \n"
   ]
  },
  {
   "cell_type": "code",
   "execution_count": null,
   "metadata": {},
   "outputs": [],
   "source": [
    "def prepare_pair_enrollment(root_dir,info,loop):\n",
    "    pattern = 'loop%s/%s/%s/%s'\n",
    "    for word in WORD:\n",
    "        pairs = {\n",
    "            'dev': {\n",
    "                'female':[],\n",
    "                'male': [],\n",
    "            }\n",
    "        }\n",
    "        folder_word = word + ('_'+word)*(loop-1)\n",
    "        for phase in info:\n",
    "            speakers = info[phase]\n",
    "            for gender in speakers:\n",
    "                if phase == 'development':\n",
    "                    for spkr in speakers[gender]:\n",
    "                        imposters = set(info['development']['female'] + info['development']['male']) - set([spkr])\n",
    "                        imposter_files = []\n",
    "                        for imp in imposters:\n",
    "                            imp_file = glob.glob(root_dir+('/loop%s/*/%s/*.wav')%(loop, imp))\n",
    "                            imposter_files.extend(imp_file)\n",
    "\n",
    "                        path = os.path.join(root_dir, 'loop%s'%(loop),folder_word , spkr)\n",
    "                        files = os.listdir(path)\n",
    "                        for file in files:\n",
    "                            current_file = pattern % (loop, folder_word, spkr, file)\n",
    "                            # Get target correct\n",
    "                            # Accept pairs\n",
    "                            other_files = [f for f in files if f != file]\n",
    "                            accept_pairs = [['1', current_file, pattern % (loop, folder_word, spkr, o_file)] for o_file in other_files]\n",
    "\n",
    "                            # Reject pairs\n",
    "                            reject_pairs = []\n",
    "                            n_pairs = len(files)\n",
    "                            n_target_wrong = n_pairs // 2\n",
    "                            n_imposters = n_pairs - n_target_wrong\n",
    "                            \n",
    "                            tw_all =list(set(glob.glob(root_dir+'/loop%s/*/%s/*.wav' % (loop, spkr))) -\n",
    "                                set(glob.glob(root_dir+'/loop%s/%s/%s/*.wav' % (loop, folder_word, spkr))))\n",
    "                            tw_set = random.choices(tw_all, k=n_target_wrong)\n",
    "                            for tw_sample in tw_set:\n",
    "                                reject_pairs.append(['0', current_file, tw_sample[len(root_dir)+1:]])\n",
    "\n",
    "                            imposter_set = random.choices(imposter_files, k=n_imposters)\n",
    "                            for imposter_sample in imposter_set:\n",
    "                                reject_pairs.append(['0', current_file, imposter_sample[len(root_dir)+1:]])\n",
    "\n",
    "                            \n",
    "                            pairs['dev'][gender].extend([accept_pairs] + [reject_pairs])\n",
    "                    \n",
    "\n",
    "        # df_bg = pd.DataFrame(background)\n",
    "        # df_bg.to_csv(os.path.join(root_dir,'loop%s/%s/development.csv'%(loop,folder_word)), index=False)\n",
    "\n",
    "        for phase in pairs:\n",
    "            files = pairs[phase]\n",
    "            for gender in files:\n",
    "                fout = open(os.path.join(root_dir,'loop%s/%s/%s_%s.txt'%(loop,folder_word,gender,phase)), 'w')\n",
    "                for list_file in files[gender]:\n",
    "                    for file in list_file:\n",
    "                        fout.write(\" \".join(file) + '\\n')\n",
    "            \n",
    "            files = pairs[phase]['male'] + pairs[phase]['female']\n",
    "            fout = open(os.path.join(root_dir,'loop%s/%s/all_%s.txt'%(loop,folder_word,phase)), 'w')\n",
    "            for list_file in files:\n",
    "                for file in list_file:\n",
    "                    fout.write(\" \".join(file) + '\\n')\n",
    "        \n"
   ]
  },
  {
   "cell_type": "code",
   "execution_count": null,
   "metadata": {},
   "outputs": [],
   "source": [
    "prepare_pair_enrollment(DIR, info, 5)"
   ]
  },
  {
   "cell_type": "code",
   "execution_count": null,
   "metadata": {},
   "outputs": [],
   "source": [
    "DIR = 'new_data'"
   ]
  },
  {
   "cell_type": "code",
   "execution_count": null,
   "metadata": {},
   "outputs": [],
   "source": [
    "prepare_data_stage2_2(DIR, info, 5)"
   ]
  },
  {
   "cell_type": "code",
   "execution_count": null,
   "metadata": {},
   "outputs": [],
   "source": [
    "set(glob.glob('./data'+'/loop2/*/01/*.wav')) - set(glob.glob('./data'+'/loop2/0_0/01/*.wav'))"
   ]
  },
  {
   "cell_type": "code",
   "execution_count": null,
   "metadata": {},
   "outputs": [],
   "source": [
    "# import required libraries\n",
    "import sounddevice as sd\n",
    "from scipy.io.wavfile import write\n",
    "import wavio as wv\n",
    " \n",
    "# Sampling frequency\n",
    "freq = 44100\n",
    " \n",
    "# Recording duration\n",
    "duration = 5\n",
    " \n",
    "# Start recorder with the given values\n",
    "# of duration and sample frequency\n",
    "recording = sd.rec(int(duration * freq),\n",
    "                   samplerate=freq, channels=2)\n",
    " \n",
    "# Record audio for the given number of seconds\n",
    "sd.wait()\n",
    " \n",
    "# This will convert the NumPy array to an audio\n",
    "# file with the given sampling frequency\n",
    "write(\"recording0.wav\", freq, recording)\n",
    " \n",
    "# Convert the NumPy array to audio file\n",
    "wv.write(\"recording1.wav\", recording, freq, sampwidth=2)"
   ]
  },
  {
   "cell_type": "code",
   "execution_count": null,
   "metadata": {},
   "outputs": [],
   "source": []
  }
 ],
 "metadata": {
  "kernelspec": {
   "display_name": "speaker-verification",
   "language": "python",
   "name": "python3"
  },
  "language_info": {
   "codemirror_mode": {
    "name": "ipython",
    "version": 3
   },
   "file_extension": ".py",
   "mimetype": "text/x-python",
   "name": "python",
   "nbconvert_exporter": "python",
   "pygments_lexer": "ipython3",
   "version": "3.10.8"
  },
  "orig_nbformat": 4,
  "vscode": {
   "interpreter": {
    "hash": "edbb45d4957cf311985aa67ba05d6e5e146bc035c1a213edade3cc74e66c8d90"
   }
  }
 },
 "nbformat": 4,
 "nbformat_minor": 2
}
