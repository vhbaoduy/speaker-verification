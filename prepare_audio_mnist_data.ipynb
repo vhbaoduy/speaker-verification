{
 "cells": [
  {
   "cell_type": "code",
   "execution_count": 1,
   "metadata": {},
   "outputs": [],
   "source": [
    "import pandas as pd\n",
    "import os\n",
    "import json\n",
    "import random\n",
    "import numpy as np\n",
    "import random"
   ]
  },
  {
   "cell_type": "code",
   "execution_count": 3,
   "metadata": {},
   "outputs": [],
   "source": [
    "info = json.load(open('./meta_data/audio_mnist/stage_1/info.json'))"
   ]
  },
  {
   "cell_type": "code",
   "execution_count": 4,
   "metadata": {},
   "outputs": [],
   "source": [
    "splitting = {\n",
    "    'background': 1/3,\n",
    "    'development': 1/3,\n",
    "    'evaluation': 1/3\n",
    "}\n",
    "random.seed(2023)\n",
    "np.random.seed(2023)"
   ]
  },
  {
   "cell_type": "code",
   "execution_count": 5,
   "metadata": {},
   "outputs": [],
   "source": [
    "male_speakers = info['male_speakers']\n",
    "np.random.shuffle(male_speakers)\n",
    "female_speakers = info['female_speakers']\n",
    "np.random.shuffle(female_speakers)"
   ]
  },
  {
   "cell_type": "code",
   "execution_count": 6,
   "metadata": {},
   "outputs": [
    {
     "data": {
      "text/plain": [
       "48"
      ]
     },
     "execution_count": 6,
     "metadata": {},
     "output_type": "execute_result"
    }
   ],
   "source": [
    "len(male_speakers)"
   ]
  },
  {
   "cell_type": "code",
   "execution_count": 8,
   "metadata": {},
   "outputs": [
    {
     "name": "stdout",
     "output_type": "stream",
     "text": [
      "Train: 16 Valid: 16 Test: 16\n"
     ]
    }
   ],
   "source": [
    "idx_train = int(splitting['background'] * len(male_speakers))\n",
    "idx_valid = int(splitting['development'] * len(male_speakers))\n",
    "idx_test = len(male_speakers) - idx_train - idx_valid\n",
    "print('Train: %s Valid: %s Test: %s' %(idx_train, idx_valid, idx_test))"
   ]
  },
  {
   "cell_type": "code",
   "execution_count": 9,
   "metadata": {},
   "outputs": [],
   "source": [
    "split = {\n",
    "    'background': {},\n",
    "    'development':{},\n",
    "    'evaluation': {}\n",
    "}"
   ]
  },
  {
   "cell_type": "code",
   "execution_count": 10,
   "metadata": {},
   "outputs": [],
   "source": [
    "split['background']['male'] = male_speakers[:idx_train]\n",
    "split['development']['male'] = male_speakers[idx_train: idx_train + idx_valid]\n",
    "split['evaluation']['male'] = male_speakers[idx_train + idx_valid:]"
   ]
  },
  {
   "cell_type": "code",
   "execution_count": 12,
   "metadata": {},
   "outputs": [
    {
     "name": "stdout",
     "output_type": "stream",
     "text": [
      "Train: 4 Valid: 4 Test: 4\n"
     ]
    }
   ],
   "source": [
    "idx_train = int(splitting['background'] * len(female_speakers))\n",
    "idx_valid = int(splitting['development'] * len(female_speakers))\n",
    "idx_test = len(female_speakers) - idx_train - idx_valid\n",
    "\n",
    "print('Train: %s Valid: %s Test: %s' %(idx_train, idx_valid, idx_test))"
   ]
  },
  {
   "cell_type": "code",
   "execution_count": 13,
   "metadata": {},
   "outputs": [],
   "source": [
    "split['background']['female'] = female_speakers[:idx_train]\n",
    "split['development']['female'] = female_speakers[idx_train: idx_train + idx_valid]\n",
    "split['evaluation']['female'] = female_speakers[idx_train + idx_valid:]"
   ]
  },
  {
   "cell_type": "code",
   "execution_count": 15,
   "metadata": {},
   "outputs": [],
   "source": [
    "json.dump(split, open('split_stage2.json', 'w'))"
   ]
  },
  {
   "cell_type": "code",
   "execution_count": 3,
   "metadata": {},
   "outputs": [],
   "source": [
    "np.random.seed(2023)\n",
    "random.seed(2023)\n",
    "pattern = '%s/%s/%s'"
   ]
  },
  {
   "cell_type": "code",
   "execution_count": null,
   "metadata": {},
   "outputs": [],
   "source": [
    "def prepare_data(info, path):\n",
    "    word_folder = os.listdir(path)\n",
    "    \n",
    "    "
   ]
  }
 ],
 "metadata": {
  "kernelspec": {
   "display_name": "speaker-verification",
   "language": "python",
   "name": "python3"
  },
  "language_info": {
   "codemirror_mode": {
    "name": "ipython",
    "version": 3
   },
   "file_extension": ".py",
   "mimetype": "text/x-python",
   "name": "python",
   "nbconvert_exporter": "python",
   "pygments_lexer": "ipython3",
   "version": "3.10.8 (main, Nov 24 2022, 14:13:03) [GCC 11.2.0]"
  },
  "orig_nbformat": 4,
  "vscode": {
   "interpreter": {
    "hash": "edbb45d4957cf311985aa67ba05d6e5e146bc035c1a213edade3cc74e66c8d90"
   }
  }
 },
 "nbformat": 4,
 "nbformat_minor": 2
}
