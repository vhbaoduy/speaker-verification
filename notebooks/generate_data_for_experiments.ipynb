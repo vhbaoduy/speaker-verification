{
 "cells": [
  {
   "cell_type": "markdown",
   "metadata": {},
   "source": [
    "This file is used for data generation of research"
   ]
  },
  {
   "cell_type": "code",
   "execution_count": 1,
   "metadata": {},
   "outputs": [],
   "source": [
    "import sys\n",
    "sys.path.append(\"../\")\n",
    "import os\n",
    "import copy\n",
    "from itertools import permutations \n",
    "import combine_data"
   ]
  },
  {
   "cell_type": "code",
   "execution_count": 10,
   "metadata": {},
   "outputs": [],
   "source": [
    "CONFIG ={\n",
    "'dataset': 'audio_mnist', # ['arabic', 'google-speech-command']\n",
    "'root_dir': '../data',\n",
    "'out_dir': '../new_data/%s/%s',\n",
    "'df_path': '../meta_data/data.csv',\n",
    "'info_path': '../meta_data/info.json',\n",
    "'n_samples': 50,\n",
    "'mode': 'random'\n",
    "}"
   ]
  },
  {
   "cell_type": "code",
   "execution_count": 3,
   "metadata": {},
   "outputs": [
    {
     "name": "stdout",
     "output_type": "stream",
     "text": [
      "[(3, 1), (1, 0), (1, 6), (1, 3), (1, 9), (3, 0), (3, 9), (3, 6), (9, 1), (0, 1), (6, 1), (9, 0), (9, 3), (9, 6), (0, 3), (0, 9), (0, 6), (6, 0), (6, 3), (6, 9)]\n"
     ]
    }
   ],
   "source": [
    "words_2 = [0,1,3,6,9]\n",
    "list_combine = list(set(permutations(words_2,r=2)))\n",
    "print(list_combine)\n"
   ]
  },
  {
   "cell_type": "markdown",
   "metadata": {},
   "source": [
    "## Generate data with permutation"
   ]
  },
  {
   "cell_type": "code",
   "execution_count": 12,
   "metadata": {},
   "outputs": [
    {
     "name": "stdout",
     "output_type": "stream",
     "text": [
      "../new_data/experiments_loop2/3_1\n"
     ]
    },
    {
     "name": "stderr",
     "output_type": "stream",
     "text": [
      "100%|██████████| 60/60 [00:09<00:00,  6.17it/s, speaker=60, Total=49/50]\n"
     ]
    },
    {
     "name": "stdout",
     "output_type": "stream",
     "text": [
      "../new_data/experiments_loop2/1_0\n"
     ]
    },
    {
     "name": "stderr",
     "output_type": "stream",
     "text": [
      "100%|██████████| 60/60 [00:09<00:00,  6.15it/s, speaker=60, Total=49/50]\n"
     ]
    },
    {
     "name": "stdout",
     "output_type": "stream",
     "text": [
      "../new_data/experiments_loop2/1_6\n"
     ]
    },
    {
     "name": "stderr",
     "output_type": "stream",
     "text": [
      "100%|██████████| 60/60 [00:10<00:00,  5.84it/s, speaker=60, Total=49/50]\n"
     ]
    },
    {
     "name": "stdout",
     "output_type": "stream",
     "text": [
      "../new_data/experiments_loop2/1_3\n"
     ]
    },
    {
     "name": "stderr",
     "output_type": "stream",
     "text": [
      "100%|██████████| 60/60 [00:10<00:00,  5.92it/s, speaker=60, Total=49/50]\n"
     ]
    },
    {
     "name": "stdout",
     "output_type": "stream",
     "text": [
      "../new_data/experiments_loop2/1_9\n"
     ]
    },
    {
     "name": "stderr",
     "output_type": "stream",
     "text": [
      "100%|██████████| 60/60 [00:13<00:00,  4.40it/s, speaker=60, Total=49/50]\n"
     ]
    },
    {
     "name": "stdout",
     "output_type": "stream",
     "text": [
      "../new_data/experiments_loop2/3_0\n"
     ]
    },
    {
     "name": "stderr",
     "output_type": "stream",
     "text": [
      "100%|██████████| 60/60 [00:10<00:00,  5.93it/s, speaker=60, Total=49/50]\n"
     ]
    },
    {
     "name": "stdout",
     "output_type": "stream",
     "text": [
      "../new_data/experiments_loop2/3_9\n"
     ]
    },
    {
     "name": "stderr",
     "output_type": "stream",
     "text": [
      "100%|██████████| 60/60 [00:09<00:00,  6.02it/s, speaker=60, Total=49/50]\n"
     ]
    },
    {
     "name": "stdout",
     "output_type": "stream",
     "text": [
      "../new_data/experiments_loop2/3_6\n"
     ]
    },
    {
     "name": "stderr",
     "output_type": "stream",
     "text": [
      "100%|██████████| 60/60 [00:10<00:00,  5.94it/s, speaker=60, Total=49/50]\n"
     ]
    },
    {
     "name": "stdout",
     "output_type": "stream",
     "text": [
      "../new_data/experiments_loop2/9_1\n"
     ]
    },
    {
     "name": "stderr",
     "output_type": "stream",
     "text": [
      "100%|██████████| 60/60 [00:09<00:00,  6.02it/s, speaker=60, Total=49/50]\n"
     ]
    },
    {
     "name": "stdout",
     "output_type": "stream",
     "text": [
      "../new_data/experiments_loop2/0_1\n"
     ]
    },
    {
     "name": "stderr",
     "output_type": "stream",
     "text": [
      "100%|██████████| 60/60 [00:10<00:00,  5.94it/s, speaker=60, Total=49/50]\n"
     ]
    },
    {
     "name": "stdout",
     "output_type": "stream",
     "text": [
      "../new_data/experiments_loop2/6_1\n"
     ]
    },
    {
     "name": "stderr",
     "output_type": "stream",
     "text": [
      "100%|██████████| 60/60 [00:10<00:00,  5.88it/s, speaker=60, Total=49/50]\n"
     ]
    },
    {
     "name": "stdout",
     "output_type": "stream",
     "text": [
      "../new_data/experiments_loop2/9_0\n"
     ]
    },
    {
     "name": "stderr",
     "output_type": "stream",
     "text": [
      "100%|██████████| 60/60 [00:14<00:00,  4.01it/s, speaker=60, Total=49/50]\n"
     ]
    },
    {
     "name": "stdout",
     "output_type": "stream",
     "text": [
      "../new_data/experiments_loop2/9_3\n"
     ]
    },
    {
     "name": "stderr",
     "output_type": "stream",
     "text": [
      "100%|██████████| 60/60 [00:09<00:00,  6.11it/s, speaker=60, Total=49/50]\n"
     ]
    },
    {
     "name": "stdout",
     "output_type": "stream",
     "text": [
      "../new_data/experiments_loop2/9_6\n"
     ]
    },
    {
     "name": "stderr",
     "output_type": "stream",
     "text": [
      "100%|██████████| 60/60 [00:09<00:00,  6.12it/s, speaker=60, Total=49/50]\n"
     ]
    },
    {
     "name": "stdout",
     "output_type": "stream",
     "text": [
      "../new_data/experiments_loop2/0_3\n"
     ]
    },
    {
     "name": "stderr",
     "output_type": "stream",
     "text": [
      "100%|██████████| 60/60 [00:08<00:00,  6.85it/s, speaker=60, Total=49/50]\n"
     ]
    },
    {
     "name": "stdout",
     "output_type": "stream",
     "text": [
      "../new_data/experiments_loop2/0_9\n"
     ]
    },
    {
     "name": "stderr",
     "output_type": "stream",
     "text": [
      "100%|██████████| 60/60 [00:09<00:00,  6.44it/s, speaker=60, Total=49/50]\n"
     ]
    },
    {
     "name": "stdout",
     "output_type": "stream",
     "text": [
      "../new_data/experiments_loop2/0_6\n"
     ]
    },
    {
     "name": "stderr",
     "output_type": "stream",
     "text": [
      "100%|██████████| 60/60 [00:10<00:00,  5.98it/s, speaker=60, Total=49/50]\n"
     ]
    },
    {
     "name": "stdout",
     "output_type": "stream",
     "text": [
      "../new_data/experiments_loop2/6_0\n"
     ]
    },
    {
     "name": "stderr",
     "output_type": "stream",
     "text": [
      "100%|██████████| 60/60 [00:10<00:00,  5.73it/s, speaker=60, Total=49/50]\n"
     ]
    },
    {
     "name": "stdout",
     "output_type": "stream",
     "text": [
      "../new_data/experiments_loop2/6_3\n"
     ]
    },
    {
     "name": "stderr",
     "output_type": "stream",
     "text": [
      "100%|██████████| 60/60 [00:14<00:00,  4.13it/s, speaker=60, Total=49/50]\n"
     ]
    },
    {
     "name": "stdout",
     "output_type": "stream",
     "text": [
      "../new_data/experiments_loop2/6_9\n"
     ]
    },
    {
     "name": "stderr",
     "output_type": "stream",
     "text": [
      "100%|██████████| 60/60 [00:10<00:00,  5.90it/s, speaker=60, Total=49/50]\n"
     ]
    }
   ],
   "source": [
    "for w in list_combine:\n",
    "    word = [str(x) for x in w]\n",
    "    config =copy.deepcopy(CONFIG)\n",
    "    print(CONFIG['out_dir'] % ('experiments_loop2', '_'.join(word)))\n",
    "    \n",
    "    config['out_dir'] = CONFIG['out_dir'] % ('experiments_loop2', '_'.join(word))\n",
    "    config['words'] = word\n",
    "    os.makedirs(config['out_dir'], exist_ok=True)\n",
    "    combine_data.create_data(config)"
   ]
  },
  {
   "cell_type": "markdown",
   "metadata": {},
   "source": [
    "## Generate new data with repetition"
   ]
  },
  {
   "cell_type": "code",
   "execution_count": 11,
   "metadata": {},
   "outputs": [
    {
     "name": "stderr",
     "output_type": "stream",
     "text": [
      "100%|██████████| 60/60 [00:23<00:00,  2.50it/s, speaker=60, Total=49/50]\n",
      "100%|██████████| 60/60 [00:24<00:00,  2.48it/s, speaker=60, Total=49/50]\n",
      "100%|██████████| 60/60 [00:28<00:00,  2.10it/s, speaker=60, Total=49/50]\n",
      "100%|██████████| 60/60 [00:23<00:00,  2.51it/s, speaker=60, Total=49/50]\n",
      "100%|██████████| 60/60 [00:24<00:00,  2.41it/s, speaker=60, Total=49/50]\n",
      "100%|██████████| 60/60 [00:25<00:00,  2.36it/s, speaker=60, Total=49/50]\n",
      "100%|██████████| 60/60 [00:26<00:00,  2.29it/s, speaker=60, Total=49/50]\n",
      "100%|██████████| 60/60 [00:24<00:00,  2.41it/s, speaker=60, Total=49/50]\n",
      "100%|██████████| 60/60 [00:23<00:00,  2.52it/s, speaker=60, Total=49/50]\n",
      "100%|██████████| 60/60 [00:24<00:00,  2.49it/s, speaker=60, Total=49/50]\n"
     ]
    }
   ],
   "source": [
    "# LOOP = 3\n",
    "WORD = [\"0\", \"1\", \"2\", \"3\", \"4\", \"5\", \"6\", \"7\", \"8\", \"9\"]\n",
    "for loop in [0]:\n",
    "    for w in WORD:\n",
    "        config =copy.deepcopy(CONFIG)\n",
    "        word = [w]*(loop+1)\n",
    "        config['out_dir'] = CONFIG['out_dir'] % ('loop' + str(loop+1), '_'.join(word))\n",
    "        config['words'] = word\n",
    "        os.makedirs(config['out_dir'], exist_ok=True)\n",
    "        combine_data.create_data(config)"
   ]
  },
  {
   "cell_type": "code",
   "execution_count": null,
   "metadata": {},
   "outputs": [],
   "source": []
  }
 ],
 "metadata": {
  "kernelspec": {
   "display_name": "speaker-verification",
   "language": "python",
   "name": "python3"
  },
  "language_info": {
   "codemirror_mode": {
    "name": "ipython",
    "version": 3
   },
   "file_extension": ".py",
   "mimetype": "text/x-python",
   "name": "python",
   "nbconvert_exporter": "python",
   "pygments_lexer": "ipython3",
   "version": "3.8.16"
  },
  "orig_nbformat": 4,
  "vscode": {
   "interpreter": {
    "hash": "edbb45d4957cf311985aa67ba05d6e5e146bc035c1a213edade3cc74e66c8d90"
   }
  }
 },
 "nbformat": 4,
 "nbformat_minor": 2
}
