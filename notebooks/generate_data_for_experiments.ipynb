{
 "cells": [
  {
   "cell_type": "markdown",
   "metadata": {},
   "source": [
    "This file is used for data generation of research"
   ]
  },
  {
   "cell_type": "code",
   "execution_count": null,
   "metadata": {},
   "outputs": [],
   "source": [
    "import combine_data\n",
    "import os \n",
    "import copy\n",
    "from itertools import permutations "
   ]
  },
  {
   "cell_type": "code",
   "execution_count": 10,
   "metadata": {},
   "outputs": [],
   "source": [
    "words_1 = [1,3,6,9]\n",
    "words_2 = [0,1,3,6,9]\n",
    "list_combine = list(set(permutations(words_2,r=2)))"
   ]
  },
  {
   "cell_type": "code",
   "execution_count": 11,
   "metadata": {},
   "outputs": [
    {
     "name": "stdout",
     "output_type": "stream",
     "text": [
      "[(3, 1), (1, 0), (1, 6), (1, 3), (1, 9), (3, 0), (3, 9), (3, 6), (9, 1), (0, 1), (6, 1), (9, 0), (9, 3), (9, 6), (0, 3), (0, 9), (0, 6), (6, 0), (6, 3), (6, 9)]\n"
     ]
    }
   ],
   "source": [
    "print(list_combine)"
   ]
  },
  {
   "cell_type": "code",
   "execution_count": 16,
   "metadata": {},
   "outputs": [],
   "source": [
    "for i in list_combine:\n",
    "    name = '_'.join([str(j) for j in i])\n",
    "    os.mkdir('vox_result/experiment/'+name)\n"
   ]
  },
  {
   "cell_type": "code",
   "execution_count": 15,
   "metadata": {},
   "outputs": [],
   "source": [
    "folder = []\n",
    "for pair in list_combine:\n",
    "    folder.append('_'.join([str(t) for t in pair]))\n"
   ]
  },
  {
   "cell_type": "code",
   "execution_count": 16,
   "metadata": {},
   "outputs": [
    {
     "data": {
      "text/plain": [
       "['0_1', '9_0', '0_3', '0_9', '3_0', '0_6', '6_0', '1_0']"
      ]
     },
     "execution_count": 16,
     "metadata": {},
     "output_type": "execute_result"
    }
   ],
   "source": [
    "folder"
   ]
  },
  {
   "cell_type": "code",
   "execution_count": 2,
   "metadata": {},
   "outputs": [],
   "source": [
    "CONFIG ={\n",
    "'dataset': 'audio_mnist', # ['arabic', 'google-speech-command']\n",
    "'root_dir': '../dataset/audio_mnist',\n",
    "'out_dir': './new_data/%s/%s',\n",
    "'df_path': './meta_data/audio_mnist/0.5/data.csv',\n",
    "'info_path': './meta_data/audio_mnist/0.5/info.json',\n",
    "'n_samples': 50,\n",
    "'mode': 'random'\n",
    "}"
   ]
  },
  {
   "cell_type": "markdown",
   "metadata": {},
   "source": [
    "## Generate data with permutation"
   ]
  },
  {
   "cell_type": "code",
   "execution_count": 11,
   "metadata": {},
   "outputs": [
    {
     "name": "stdout",
     "output_type": "stream",
     "text": [
      "./data/experiments_2/0_1\n"
     ]
    },
    {
     "name": "stderr",
     "output_type": "stream",
     "text": [
      "100%|██████████| 60/60 [00:05<00:00, 11.62it/s, speaker=60, Total=49/50]\n"
     ]
    },
    {
     "name": "stdout",
     "output_type": "stream",
     "text": [
      "./data/experiments_2/9_0\n"
     ]
    },
    {
     "name": "stderr",
     "output_type": "stream",
     "text": [
      "100%|██████████| 60/60 [00:06<00:00,  9.43it/s, speaker=60, Total=49/50]\n"
     ]
    },
    {
     "name": "stdout",
     "output_type": "stream",
     "text": [
      "./data/experiments_2/0_3\n"
     ]
    },
    {
     "name": "stderr",
     "output_type": "stream",
     "text": [
      "100%|██████████| 60/60 [00:06<00:00,  8.69it/s, speaker=60, Total=49/50]\n"
     ]
    },
    {
     "name": "stdout",
     "output_type": "stream",
     "text": [
      "./data/experiments_2/0_9\n"
     ]
    },
    {
     "name": "stderr",
     "output_type": "stream",
     "text": [
      "100%|██████████| 60/60 [00:06<00:00,  9.71it/s, speaker=60, Total=49/50]\n"
     ]
    },
    {
     "name": "stdout",
     "output_type": "stream",
     "text": [
      "./data/experiments_2/3_0\n"
     ]
    },
    {
     "name": "stderr",
     "output_type": "stream",
     "text": [
      "100%|██████████| 60/60 [00:05<00:00, 10.19it/s, speaker=60, Total=49/50]\n"
     ]
    },
    {
     "name": "stdout",
     "output_type": "stream",
     "text": [
      "./data/experiments_2/0_6\n"
     ]
    },
    {
     "name": "stderr",
     "output_type": "stream",
     "text": [
      "100%|██████████| 60/60 [00:07<00:00,  8.46it/s, speaker=60, Total=49/50]\n"
     ]
    },
    {
     "name": "stdout",
     "output_type": "stream",
     "text": [
      "./data/experiments_2/6_0\n"
     ]
    },
    {
     "name": "stderr",
     "output_type": "stream",
     "text": [
      "100%|██████████| 60/60 [00:06<00:00,  9.47it/s, speaker=60, Total=49/50]\n"
     ]
    },
    {
     "name": "stdout",
     "output_type": "stream",
     "text": [
      "./data/experiments_2/1_0\n"
     ]
    },
    {
     "name": "stderr",
     "output_type": "stream",
     "text": [
      "100%|██████████| 60/60 [00:02<00:00, 22.13it/s, speaker=60, Total=49/50]\n"
     ]
    }
   ],
   "source": [
    "for w in list_combine:\n",
    "    word = [str(x) for x in w]\n",
    "    config =copy.deepcopy(CONFIG)\n",
    "    print(CONFIG['out_dir'] % ('experiments_2', '_'.join(word)))\n",
    "    config['out_dir'] = CONFIG['out_dir'] % ('experiments_2', '_'.join(word))\n",
    "    config['words'] = word\n",
    "    combine_data.create_data(config)"
   ]
  },
  {
   "cell_type": "markdown",
   "metadata": {},
   "source": [
    "## Generate new data with repetition"
   ]
  },
  {
   "cell_type": "code",
   "execution_count": 3,
   "metadata": {},
   "outputs": [
    {
     "name": "stderr",
     "output_type": "stream",
     "text": [
      "100%|██████████| 60/60 [00:02<00:00, 27.90it/s, speaker=60, Total=49/50]\n",
      "100%|██████████| 60/60 [00:02<00:00, 29.29it/s, speaker=60, Total=49/50]\n",
      "100%|██████████| 60/60 [00:02<00:00, 29.34it/s, speaker=60, Total=49/50]\n",
      "100%|██████████| 60/60 [00:02<00:00, 29.48it/s, speaker=60, Total=49/50]\n",
      "100%|██████████| 60/60 [00:02<00:00, 27.78it/s, speaker=60, Total=49/50]\n",
      "100%|██████████| 60/60 [00:02<00:00, 28.60it/s, speaker=60, Total=49/50]\n",
      "100%|██████████| 60/60 [00:02<00:00, 28.13it/s, speaker=60, Total=49/50]\n",
      "100%|██████████| 60/60 [00:02<00:00, 27.78it/s, speaker=60, Total=49/50]\n",
      "100%|██████████| 60/60 [00:02<00:00, 28.75it/s, speaker=60, Total=49/50]\n",
      "100%|██████████| 60/60 [00:02<00:00, 28.65it/s, speaker=60, Total=49/50]\n"
     ]
    }
   ],
   "source": [
    "# LOOP = 3\n",
    "WORD = [\"0\", \"1\", \"2\", \"3\", \"4\", \"5\", \"6\", \"7\", \"8\", \"9\"]\n",
    "for loop in [2,3,4]:\n",
    "    for w in WORD:\n",
    "        config =copy.deepcopy(CONFIG)\n",
    "        word = [w]*(loop+1)\n",
    "        config['out_dir'] = CONFIG['out_dir'] % ('loop' + str(loop+1), '_'.join(word))\n",
    "        config['words'] = word\n",
    "        combine_data.create_data(config)"
   ]
  }
 ],
 "metadata": {
  "kernelspec": {
   "display_name": "speaker-verification",
   "language": "python",
   "name": "python3"
  },
  "language_info": {
   "codemirror_mode": {
    "name": "ipython",
    "version": 3
   },
   "file_extension": ".py",
   "mimetype": "text/x-python",
   "name": "python",
   "nbconvert_exporter": "python",
   "pygments_lexer": "ipython3",
   "version": "3.10.8"
  },
  "orig_nbformat": 4,
  "vscode": {
   "interpreter": {
    "hash": "edbb45d4957cf311985aa67ba05d6e5e146bc035c1a213edade3cc74e66c8d90"
   }
  }
 },
 "nbformat": 4,
 "nbformat_minor": 2
}
